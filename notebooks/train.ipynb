{
 "cells": [
  {
   "cell_type": "code",
   "execution_count": 1,
   "metadata": {},
   "outputs": [],
   "source": [
    "import sys\n",
    "\n",
    "sys.path.append('../')"
   ]
  },
  {
   "cell_type": "code",
   "execution_count": 2,
   "metadata": {},
   "outputs": [],
   "source": [
    "import pandas as pd\n",
    "import seaborn as sns\n",
    "import torch\n",
    "from matplotlib import pyplot as plt\n",
    "from pytorch_metric_learning.losses import NTXentLoss\n",
    "from sentence_transformers import SentenceTransformer\n",
    "\n",
    "from data import SGDDataset, get_dataloader\n",
    "from model import Embedder\n",
    "from train import GRUEmbedder, train_step"
   ]
  },
  {
   "cell_type": "code",
   "execution_count": 3,
   "metadata": {},
   "outputs": [
    {
     "name": "stderr",
     "output_type": "stream",
     "text": [
      "C:\\Users\\Win_11\\PycharmProjects\\dialog-similarity\\venv\\lib\\site-packages\\transformers\\models\\marian\\tokenization_marian.py:194: UserWarning: Recommended: pip install sacremoses.\n",
      "  warnings.warn(\"Recommended: pip install sacremoses.\")\n",
      "Augmenting...: 100%|█████████████████████████████████████████████████████████████| 1000/1000 [00:00<00:00, 3848.87it/s]\n"
     ]
    }
   ],
   "source": [
    "dataset = SGDDataset('../dstc8-schema-guided-dialogue', 1000)"
   ]
  },
  {
   "cell_type": "code",
   "execution_count": 4,
   "metadata": {},
   "outputs": [
    {
     "name": "stderr",
     "output_type": "stream",
     "text": [
      "Computing embeddings...: 100%|████████████████████████████████████████████████████| 1000/1000 [00:04<00:00, 223.71it/s]\n"
     ]
    }
   ],
   "source": [
    "embeddings_dir = '../conversation-similarity/cache'\n",
    "\n",
    "device = torch.device('cpu')\n",
    "if torch.cuda.is_available():\n",
    "    device = torch.device('cuda')\n",
    "\n",
    "model_name = 'all-mpnet-base-v2'\n",
    "model = SentenceTransformer(model_name, device=device)\n",
    "embedder = Embedder(model=model, tokenizer=None, device=device)\n",
    "\n",
    "dataset.compute_embeddings(embeddings_dir, embedder, model_name)\n",
    "\n",
    "del embedder"
   ]
  },
  {
   "cell_type": "code",
   "execution_count": 5,
   "metadata": {},
   "outputs": [],
   "source": [
    "dataloader = get_dataloader(dataset, batch_size=32)\n",
    "model = GRUEmbedder(input_dim=768, hidden_size=64).to(device)\n",
    "optimizer = torch.optim.AdamW(model.parameters())\n",
    "criterion = NTXentLoss()"
   ]
  },
  {
   "cell_type": "code",
   "execution_count": 6,
   "metadata": {},
   "outputs": [],
   "source": [
    "n_epochs = 100\n",
    "\n",
    "logs = {'Epoch': [], 'Loss': []}\n",
    "\n",
    "for epoch in range(n_epochs):\n",
    "    total_loss = 0\n",
    "    for batch in dataloader:\n",
    "        step_loss = train_step(\n",
    "            model=model,\n",
    "            batch=batch,\n",
    "            criterion=criterion,\n",
    "            optimizer=optimizer,\n",
    "            device=device,\n",
    "        )\n",
    "        total_loss += step_loss\n",
    "    logs['Epoch'].append(epoch + 1)\n",
    "    logs['Loss'].append(total_loss / len(dataloader))"
   ]
  },
  {
   "cell_type": "code",
   "execution_count": 7,
   "metadata": {},
   "outputs": [
    {
     "data": {
      "image/png": "[encoded data removed]",
      "text/plain": [
       "<Figure size 640x480 with 1 Axes>"
      ]
     },
     "metadata": {},
     "output_type": "display_data"
    }
   ],
   "source": [
    "sns.lineplot(pd.DataFrame(logs), x='Epoch', y='Loss')\n",
    "plt.show()"
   ]
  },
  {
   "cell_type": "code",
   "execution_count": null,
   "metadata": {},
   "outputs": [],
   "source": []
  }
 ],
 "metadata": {
  "kernelspec": {
   "display_name": "Python 3 (ipykernel)",
   "language": "python",
   "name": "python3"
  },
  "language_info": {
   "codemirror_mode": {
    "name": "ipython",
    "version": 3
   },
   "file_extension": ".py",
   "mimetype": "text/x-python",
   "name": "python",
   "nbconvert_exporter": "python",
   "pygments_lexer": "ipython3",
   "version": "3.10.10"
  }
 },
 "nbformat": 4,
 "nbformat_minor": 1
}
