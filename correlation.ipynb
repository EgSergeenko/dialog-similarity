{
 "cells": [
  {
   "cell_type": "code",
   "execution_count": 1,
   "metadata": {
    "collapsed": true
   },
   "outputs": [],
   "source": [
    "import os\n",
    "\n",
    "import numpy as np\n",
    "import torch\n",
    "from sentence_transformers import SentenceTransformer\n",
    "from scipy.stats import pearsonr\n",
    "from tqdm import tqdm\n",
    "\n",
    "from data import SGDDataset\n",
    "from metrics import ConversationalEditDistance, StructuralEditDistance"
   ]
  },
  {
   "cell_type": "code",
   "execution_count": 2,
   "outputs": [],
   "source": [
    "embeddings_dir = 'conversation-similarity/cache'\n",
    "\n",
    "os.makedirs(embeddings_dir, exist_ok=True)"
   ],
   "metadata": {
    "collapsed": false
   }
  },
  {
   "cell_type": "code",
   "execution_count": 3,
   "outputs": [],
   "source": [
    "device = 'cpu'\n",
    "if torch.cuda.is_available():\n",
    "    device = 'cuda'\n",
    "\n",
    "model_name = 'all-MiniLM-L12-v2'\n",
    "model = SentenceTransformer(model_name, device=device)"
   ],
   "metadata": {
    "collapsed": false
   }
  },
  {
   "cell_type": "code",
   "execution_count": 4,
   "outputs": [],
   "source": [
    "dataset = SGDDataset('dstc8-schema-guided-dialogue')"
   ],
   "metadata": {
    "collapsed": false
   }
  },
  {
   "cell_type": "code",
   "execution_count": 5,
   "outputs": [],
   "source": [
    "target_services = {'Events_1', 'Events_2', 'Events_3'}\n",
    "target_dialog_ids = []\n",
    "for idx, dialog in enumerate(dataset.dialogs):\n",
    "    if len(set(dialog.services).union(target_services)) <= 3:\n",
    "        target_dialog_ids.append(idx)"
   ],
   "metadata": {
    "collapsed": false
   }
  },
  {
   "cell_type": "code",
   "execution_count": 6,
   "outputs": [],
   "source": [
    "conved = ConversationalEditDistance(\n",
    "    is_inverted=False, normalize=False, substitution_weight=2.2,\n",
    ")\n",
    "structed = StructuralEditDistance(\n",
    "    is_inverted=False, normalize=True, substitution_weight=2.0,\n",
    ")"
   ],
   "metadata": {
    "collapsed": false
   }
  },
  {
   "cell_type": "code",
   "execution_count": 7,
   "outputs": [],
   "source": [
    "np.random.seed(1234)\n",
    "dialog_ids = np.random.choice(target_dialog_ids, 200, replace=False)"
   ],
   "metadata": {
    "collapsed": false
   }
  },
  {
   "cell_type": "code",
   "execution_count": 8,
   "outputs": [
    {
     "name": "stderr",
     "output_type": "stream",
     "text": [
      "100%|██████████| 200/200 [00:11<00:00, 17.37it/s]\n"
     ]
    }
   ],
   "source": [
    "for dialog_id in tqdm(dialog_ids):\n",
    "    dataset.dialogs[dialog_id].compute_embeddings(\n",
    "        embeddings_dir, model, model_name,\n",
    "    )"
   ],
   "metadata": {
    "collapsed": false
   }
  },
  {
   "cell_type": "code",
   "execution_count": 9,
   "outputs": [
    {
     "name": "stderr",
     "output_type": "stream",
     "text": [
      "100%|██████████| 200/200 [01:17<00:00,  2.60it/s]\n"
     ]
    }
   ],
   "source": [
    "conved_distances, structed_distances = [], []\n",
    "for i in tqdm(dialog_ids):\n",
    "    for j in dialog_ids:\n",
    "        if i < j:\n",
    "            conved_distances.append(conved(dataset[i], dataset[j]))\n",
    "            structed_distances.append(structed(dataset[i], dataset[j]))"
   ],
   "metadata": {
    "collapsed": false
   }
  },
  {
   "cell_type": "code",
   "execution_count": 10,
   "outputs": [
    {
     "data": {
      "text/plain": "PearsonRResult(statistic=-0.12500056493455003, pvalue=4.0569453640095733e-70)"
     },
     "execution_count": 10,
     "metadata": {},
     "output_type": "execute_result"
    }
   ],
   "source": [
    "pearsonr(structed_distances, conved_distances)"
   ],
   "metadata": {
    "collapsed": false
   }
  }
 ],
 "metadata": {
  "kernelspec": {
   "display_name": "Python 3",
   "language": "python",
   "name": "python3"
  },
  "language_info": {
   "codemirror_mode": {
    "name": "ipython",
    "version": 2
   },
   "file_extension": ".py",
   "mimetype": "text/x-python",
   "name": "python",
   "nbconvert_exporter": "python",
   "pygments_lexer": "ipython2",
   "version": "2.7.6"
  }
 },
 "nbformat": 4,
 "nbformat_minor": 0
}
