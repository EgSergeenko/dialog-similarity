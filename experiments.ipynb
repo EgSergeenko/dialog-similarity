{
 "cells": [
  {
   "cell_type": "code",
   "execution_count": 1,
   "metadata": {
    "collapsed": true
   },
   "outputs": [],
   "source": [
    "import os\n",
    "\n",
    "import numpy as np\n",
    "import pandas as pd\n",
    "import torch\n",
    "from sentence_transformers import SentenceTransformer\n",
    "from tqdm import tqdm\n",
    "\n",
    "import metrics\n",
    "from dialog import Dialog, DialogTriplet, dialog_from_file"
   ]
  },
  {
   "cell_type": "code",
   "execution_count": 2,
   "outputs": [],
   "source": [
    "def get_dialog_filepath(root_dir: str, dialog_id: str):\n",
    "    return os.path.join(root_dir, '{0}.json'.format(dialog_id))"
   ],
   "metadata": {
    "collapsed": false
   }
  },
  {
   "cell_type": "code",
   "execution_count": 3,
   "outputs": [],
   "source": [
    "def load_dialog_triplets(\n",
    "    metadata: pd.DataFrame, root_dir: str,\n",
    ") -> list[DialogTriplet]:\n",
    "    dialog_triplets = []\n",
    "    for triplet in metadata.to_dict('records'):\n",
    "        label = triplet['more_similar_conv'] - 1\n",
    "        confidence_score = triplet['more_similar_conv_confidence']\n",
    "\n",
    "        anchor_filepath = get_dialog_filepath(root_dir, triplet['anchor_conv'])\n",
    "        dialog_1_filepath = get_dialog_filepath(root_dir, triplet['conv_1'])\n",
    "        dialog_2_filepath = get_dialog_filepath(root_dir, triplet['conv_2'])\n",
    "\n",
    "        dialog_triplets.append(\n",
    "            DialogTriplet(\n",
    "                anchor_dialog=dialog_from_file(anchor_filepath),\n",
    "                dialog_1=dialog_from_file(dialog_1_filepath),\n",
    "                dialog_2=dialog_from_file(dialog_2_filepath),\n",
    "                label=label,\n",
    "                confidence_score=confidence_score,\n",
    "            ),\n",
    "        )\n",
    "    return dialog_triplets"
   ],
   "metadata": {
    "collapsed": false
   }
  },
  {
   "cell_type": "code",
   "execution_count": 4,
   "outputs": [],
   "source": [
    "def compute_embeddings(\n",
    "    dialog: Dialog,\n",
    "    cache_dir: str,\n",
    "    model: SentenceTransformer,\n",
    "    model_name: str,\n",
    ") -> Dialog:\n",
    "    document = ' '.join([turn.utterance for turn in dialog.turns])\n",
    "    embedding_filepath = os.path.join(\n",
    "        cache_dir, '{0}_{1}.npy'.format(model_name, dialog.dialog_id),\n",
    "    )\n",
    "    if os.path.isfile(embedding_filepath):\n",
    "        dialog.embedding = np.load(embedding_filepath)\n",
    "    else:\n",
    "        dialog.embedding = model.encode([document])[0]\n",
    "        np.save(embedding_filepath, dialog.embedding)\n",
    "\n",
    "    for idx, turn in enumerate(dialog.turns):\n",
    "        embedding_filepath = os.path.join(\n",
    "            cache_dir,\n",
    "            '{0}_{1}_{2}.npy'.format(\n",
    "                model_name, dialog.dialog_id, idx,\n",
    "            ),\n",
    "        )\n",
    "        if os.path.isfile(embedding_filepath):\n",
    "            embedding = np.load(embedding_filepath)\n",
    "        else:\n",
    "            embedding = model.encode([turn.utterance])[0]\n",
    "            np.save(embedding_filepath, embedding)\n",
    "        dialog.turns[idx].embedding = embedding\n",
    "    return dialog"
   ],
   "metadata": {
    "collapsed": false
   }
  },
  {
   "cell_type": "code",
   "execution_count": 5,
   "outputs": [],
   "source": [
    "metadata_filepath = 'conversation-similarity/conved.csv'\n",
    "dialogs_dir = 'conversation-similarity/dialogs'\n",
    "embeddings_dir = 'conversation-similarity/cache'\n",
    "\n",
    "os.makedirs(embeddings_dir, exist_ok=True)"
   ],
   "metadata": {
    "collapsed": false
   }
  },
  {
   "cell_type": "code",
   "execution_count": 6,
   "outputs": [],
   "source": [
    "triplets = load_dialog_triplets(\n",
    "    pd.read_csv(metadata_filepath),\n",
    "    dialogs_dir,\n",
    ")"
   ],
   "metadata": {
    "collapsed": false
   }
  },
  {
   "cell_type": "code",
   "execution_count": 7,
   "outputs": [],
   "source": [
    "device = 'cpu'\n",
    "if torch.cuda.is_available():\n",
    "    device = 'cuda'\n",
    "\n",
    "model_name = 'all-MiniLM-L12-v2'\n",
    "model = SentenceTransformer(model_name, device=device)"
   ],
   "metadata": {
    "collapsed": false
   }
  },
  {
   "cell_type": "code",
   "execution_count": 8,
   "outputs": [
    {
     "name": "stderr",
     "output_type": "stream",
     "text": [
      "100%|██████████| 502/502 [00:03<00:00, 136.03it/s]\n"
     ]
    }
   ],
   "source": [
    "for triplet in tqdm(triplets):\n",
    "    triplet.anchor_dialog = compute_embeddings(triplet.anchor_dialog, embeddings_dir, model, model_name)\n",
    "    triplet.dialog_1 = compute_embeddings(triplet.dialog_1, embeddings_dir, model, model_name)\n",
    "    triplet.dialog_2 = compute_embeddings(triplet.dialog_2, embeddings_dir, model, model_name)"
   ],
   "metadata": {
    "collapsed": false
   }
  },
  {
   "cell_type": "code",
   "execution_count": 9,
   "outputs": [],
   "source": [
    "CONFIDENCE_THRESHOLD = 0.75"
   ],
   "metadata": {
    "collapsed": false
   }
  },
  {
   "cell_type": "code",
   "execution_count": 10,
   "outputs": [],
   "source": [
    "metrics_to_evaluate = {\n",
    "    'Constant distance': metrics.ExampleMetric(is_inverted=False),\n",
    "    'ConvED': metrics.ConversationalEditDistance(is_inverted=False),\n",
    "    'Cosine distance (average embedding)': metrics.CosineDistance(is_inverted=False, embedding_type='turn'),\n",
    "    'Lp distance p=1 (average embedding)': metrics.LpDistance(is_inverted=False, embedding_type='turn', p=1),\n",
    "    'Lp distance p=2 (average embedding)': metrics.LpDistance(is_inverted=False, embedding_type='turn', p=2),\n",
    "    'Dot product similarity (average embedding)': metrics.DotProductSimilarity(is_inverted=True, embedding_type='turn'),\n",
    "    'Cosine distance (dialog embedding)': metrics.CosineDistance(is_inverted=False, embedding_type='dialog'),\n",
    "    'Lp distance p=1 (dialog embedding)': metrics.LpDistance(is_inverted=False, embedding_type='dialog', p=1),\n",
    "    'Lp distance p=2 (dialog embedding)': metrics.LpDistance(is_inverted=False, embedding_type='dialog', p=2),\n",
    "    'Dot product similarity (dialog embedding)': metrics.DotProductSimilarity(is_inverted=True, embedding_type='dialog'),\n",
    "}"
   ],
   "metadata": {
    "collapsed": false
   }
  },
  {
   "cell_type": "code",
   "execution_count": 11,
   "outputs": [],
   "source": [
    "metric_names, scores = [], []\n",
    "for metric_name, metric in metrics_to_evaluate.items():\n",
    "    score = metrics.get_metric_agreement(\n",
    "        dialog_triplets=triplets,\n",
    "        metric=metric,\n",
    "        confidence_threshold=CONFIDENCE_THRESHOLD,\n",
    "    )\n",
    "    metric_names.append(metric_name)\n",
    "    scores.append(score)"
   ],
   "metadata": {
    "collapsed": false
   }
  },
  {
   "cell_type": "code",
   "execution_count": 12,
   "outputs": [],
   "source": [
    "results = pd.DataFrame({'Metric': metric_names, 'Score': scores})"
   ],
   "metadata": {
    "collapsed": false
   }
  },
  {
   "cell_type": "code",
   "execution_count": 13,
   "outputs": [
    {
     "data": {
      "text/plain": "                                       Metric     Score\n0                           Constant distance  0.521739\n1                                      ConvED  0.608696\n2         Cosine distance (average embedding)  0.491304\n3         Lp distance p=1 (average embedding)  0.500000\n4         Lp distance p=2 (average embedding)  0.521739\n5  Dot product similarity (average embedding)  0.517391\n6          Cosine distance (dialog embedding)  0.500000\n7          Lp distance p=1 (dialog embedding)  0.486957\n8          Lp distance p=2 (dialog embedding)  0.500000\n9   Dot product similarity (dialog embedding)  0.500000",
      "text/html": "<div>\n<style scoped>\n    .dataframe tbody tr th:only-of-type {\n        vertical-align: middle;\n    }\n\n    .dataframe tbody tr th {\n        vertical-align: top;\n    }\n\n    .dataframe thead th {\n        text-align: right;\n    }\n</style>\n<table border=\"1\" class=\"dataframe\">\n  <thead>\n    <tr style=\"text-align: right;\">\n      <th></th>\n      <th>Metric</th>\n      <th>Score</th>\n    </tr>\n  </thead>\n  <tbody>\n    <tr>\n      <th>0</th>\n      <td>Constant distance</td>\n      <td>0.521739</td>\n    </tr>\n    <tr>\n      <th>1</th>\n      <td>ConvED</td>\n      <td>0.608696</td>\n    </tr>\n    <tr>\n      <th>2</th>\n      <td>Cosine distance (average embedding)</td>\n      <td>0.491304</td>\n    </tr>\n    <tr>\n      <th>3</th>\n      <td>Lp distance p=1 (average embedding)</td>\n      <td>0.500000</td>\n    </tr>\n    <tr>\n      <th>4</th>\n      <td>Lp distance p=2 (average embedding)</td>\n      <td>0.521739</td>\n    </tr>\n    <tr>\n      <th>5</th>\n      <td>Dot product similarity (average embedding)</td>\n      <td>0.517391</td>\n    </tr>\n    <tr>\n      <th>6</th>\n      <td>Cosine distance (dialog embedding)</td>\n      <td>0.500000</td>\n    </tr>\n    <tr>\n      <th>7</th>\n      <td>Lp distance p=1 (dialog embedding)</td>\n      <td>0.486957</td>\n    </tr>\n    <tr>\n      <th>8</th>\n      <td>Lp distance p=2 (dialog embedding)</td>\n      <td>0.500000</td>\n    </tr>\n    <tr>\n      <th>9</th>\n      <td>Dot product similarity (dialog embedding)</td>\n      <td>0.500000</td>\n    </tr>\n  </tbody>\n</table>\n</div>"
     },
     "execution_count": 13,
     "metadata": {},
     "output_type": "execute_result"
    }
   ],
   "source": [
    "results"
   ],
   "metadata": {
    "collapsed": false
   }
  }
 ],
 "metadata": {
  "kernelspec": {
   "display_name": "Python 3",
   "language": "python",
   "name": "python3"
  },
  "language_info": {
   "codemirror_mode": {
    "name": "ipython",
    "version": 2
   },
   "file_extension": ".py",
   "mimetype": "text/x-python",
   "name": "python",
   "nbconvert_exporter": "python",
   "pygments_lexer": "ipython2",
   "version": "2.7.6"
  }
 },
 "nbformat": 4,
 "nbformat_minor": 0
}
