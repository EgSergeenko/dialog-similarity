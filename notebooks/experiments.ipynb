{
 "cells": [
  {
   "cell_type": "code",
   "execution_count": 1,
   "metadata": {},
   "outputs": [],
   "source": [
    "import sys\n",
    "\n",
    "sys.path.append('../')"
   ]
  },
  {
   "cell_type": "code",
   "execution_count": 2,
   "metadata": {},
   "outputs": [],
   "source": [
    "import json\n",
    "import os\n",
    "\n",
    "import pandas as pd\n",
    "import torch\n",
    "from tqdm import tqdm\n",
    "from transformers import AutoModel, AutoTokenizer\n",
    "from sentence_transformers import SentenceTransformer\n",
    "\n",
    "import metrics\n",
    "from dialog import DialogTriplet, dialog_from_file\n",
    "from model import Embedder"
   ]
  },
  {
   "cell_type": "code",
   "execution_count": 3,
   "metadata": {},
   "outputs": [],
   "source": [
    "CONFIDENCE_THRESHOLD = 0.75"
   ]
  },
  {
   "cell_type": "code",
   "execution_count": 4,
   "metadata": {},
   "outputs": [],
   "source": [
    "def get_dialog_filepath(root_dir: str, dialog_id: str):\n",
    "    return os.path.join(root_dir, '{0}.json'.format(dialog_id))"
   ]
  },
  {
   "cell_type": "code",
   "execution_count": 5,
   "metadata": {},
   "outputs": [],
   "source": [
    "def load_dialog_triplets(\n",
    "    metadata: pd.DataFrame, root_dir: str,\n",
    ") -> list[DialogTriplet]:\n",
    "    dialog_triplets = []\n",
    "    for triplet in metadata.to_dict('records'):\n",
    "        label = triplet['more_similar_conv'] - 1\n",
    "        confidence_score = triplet['more_similar_conv_confidence']\n",
    "\n",
    "        anchor_filepath = get_dialog_filepath(root_dir, triplet['anchor_conv'])\n",
    "        dialog_1_filepath = get_dialog_filepath(root_dir, triplet['conv_1'])\n",
    "        dialog_2_filepath = get_dialog_filepath(root_dir, triplet['conv_2'])\n",
    "\n",
    "        dialog_triplets.append(\n",
    "            DialogTriplet(\n",
    "                anchor_dialog=dialog_from_file(anchor_filepath),\n",
    "                dialog_1=dialog_from_file(dialog_1_filepath),\n",
    "                dialog_2=dialog_from_file(dialog_2_filepath),\n",
    "                label=label,\n",
    "                confidence_score=confidence_score,\n",
    "            ),\n",
    "        )\n",
    "    return dialog_triplets"
   ]
  },
  {
   "cell_type": "code",
   "execution_count": 6,
   "metadata": {},
   "outputs": [],
   "source": [
    "def evaluate_metrics(\n",
    "    metrics_to_evaluate: dict[str, metrics.BaseMetric],\n",
    "    dialog_triplets: list[DialogTriplet],\n",
    "    confidence_threshold: float,\n",
    ") -> pd.DataFrame:\n",
    "    metric_names, scores = [], []\n",
    "    for metric_name, metric in metrics_to_evaluate.items():\n",
    "        score = metrics.get_metric_agreement(\n",
    "            dialog_triplets=dialog_triplets,\n",
    "            metric=metric,\n",
    "            confidence_threshold=confidence_threshold,\n",
    "        )\n",
    "        metric_names.append(metric_name)\n",
    "        scores.append(score)\n",
    "    return pd.DataFrame({'Metric': metric_names, 'Score': scores})"
   ]
  },
  {
   "cell_type": "code",
   "execution_count": 7,
   "metadata": {},
   "outputs": [],
   "source": [
    "metadata_filepath = '../conversation-similarity/conved.csv'\n",
    "dialogs_dir = '../conversation-similarity/dialogs'\n",
    "embeddings_dir = '../conversation-similarity/cache'\n",
    "\n",
    "os.makedirs(embeddings_dir, exist_ok=True)"
   ]
  },
  {
   "cell_type": "code",
   "execution_count": 8,
   "metadata": {},
   "outputs": [],
   "source": [
    "triplets = load_dialog_triplets(\n",
    "    pd.read_csv(metadata_filepath), dialogs_dir,\n",
    ")"
   ]
  },
  {
   "cell_type": "code",
   "execution_count": 9,
   "metadata": {},
   "outputs": [],
   "source": [
    "device = 'cpu'\n",
    "if torch.cuda.is_available():\n",
    "    device = 'cuda'"
   ]
  },
  {
   "cell_type": "code",
   "execution_count": 10,
   "metadata": {},
   "outputs": [],
   "source": [
    "metrics_without_embeddings = {\n",
    "    'Constant distance': metrics.ExampleMetric(is_inverted=False),\n",
    "    'StructED': metrics.StructuralEditDistance(is_inverted=False, normalize=False, substitution_weight=2.0),\n",
    "    'StructED (normalized)': metrics.StructuralEditDistance(is_inverted=False, normalize=True, substitution_weight=2.0),\n",
    "    'StructED (transpositions)': metrics.StructuralEditDistance(is_inverted=False, normalize=False, substitution_weight=2.0, transpositions=False),\n",
    "    'StructED (transpositions, normalized)': metrics.StructuralEditDistance(is_inverted=False, normalize=True, substitution_weight=2.0, transpositions=True),\n",
    "}\n",
    "\n",
    "metrics_with_embeddings = {\n",
    "    'ConvED': metrics.ConversationalEditDistance(is_inverted=False, normalize=False, substitution_weight=2.2),\n",
    "    'ConvED (normalized)': metrics.ConversationalEditDistance(is_inverted=False, normalize=True, substitution_weight=2.2),\n",
    "    'Cosine distance (average embedding)': metrics.CosineDistance(is_inverted=False, embedding_type='turn'),\n",
    "    'Lp distance p=1 (average embedding)': metrics.LpDistance(is_inverted=False, embedding_type='turn', p=1),\n",
    "    'Lp distance p=2 (average embedding)': metrics.LpDistance(is_inverted=False, embedding_type='turn', p=2),\n",
    "    'Dot product similarity (average embedding)': metrics.DotProductSimilarity(is_inverted=True, embedding_type='turn'),\n",
    "    'Cosine distance (dialog embedding)': metrics.CosineDistance(is_inverted=False, embedding_type='dialog'),\n",
    "    'Lp distance p=1 (dialog embedding)': metrics.LpDistance(is_inverted=False, embedding_type='dialog', p=1),\n",
    "    'Lp distance p=2 (dialog embedding)': metrics.LpDistance(is_inverted=False, embedding_type='dialog', p=2),\n",
    "    'Dot product similarity (dialog embedding)': metrics.DotProductSimilarity(is_inverted=True, embedding_type='dialog'),\n",
    "}"
   ]
  },
  {
   "cell_type": "markdown",
   "metadata": {},
   "source": [
    "### Metrics without embeddings"
   ]
  },
  {
   "cell_type": "code",
   "execution_count": 11,
   "metadata": {},
   "outputs": [],
   "source": [
    "results = evaluate_metrics(\n",
    "    metrics_without_embeddings,\n",
    "    triplets,\n",
    "    CONFIDENCE_THRESHOLD,\n",
    ")"
   ]
  },
  {
   "cell_type": "code",
   "execution_count": 12,
   "metadata": {},
   "outputs": [
    {
     "data": {
      "text/html": [
       "<div>\n",
       "<style scoped>\n",
       "    .dataframe tbody tr th:only-of-type {\n",
       "        vertical-align: middle;\n",
       "    }\n",
       "\n",
       "    .dataframe tbody tr th {\n",
       "        vertical-align: top;\n",
       "    }\n",
       "\n",
       "    .dataframe thead th {\n",
       "        text-align: right;\n",
       "    }\n",
       "</style>\n",
       "<table border=\"1\" class=\"dataframe\">\n",
       "  <thead>\n",
       "    <tr style=\"text-align: right;\">\n",
       "      <th></th>\n",
       "      <th>Metric</th>\n",
       "      <th>Score</th>\n",
       "    </tr>\n",
       "  </thead>\n",
       "  <tbody>\n",
       "    <tr>\n",
       "      <th>0</th>\n",
       "      <td>Constant distance</td>\n",
       "      <td>0.521739</td>\n",
       "    </tr>\n",
       "    <tr>\n",
       "      <th>1</th>\n",
       "      <td>StructED</td>\n",
       "      <td>0.743478</td>\n",
       "    </tr>\n",
       "    <tr>\n",
       "      <th>2</th>\n",
       "      <td>StructED (normalized)</td>\n",
       "      <td>0.708696</td>\n",
       "    </tr>\n",
       "    <tr>\n",
       "      <th>3</th>\n",
       "      <td>StructED (transpositions)</td>\n",
       "      <td>0.743478</td>\n",
       "    </tr>\n",
       "    <tr>\n",
       "      <th>4</th>\n",
       "      <td>StructED (transpositions, normalized)</td>\n",
       "      <td>0.708696</td>\n",
       "    </tr>\n",
       "  </tbody>\n",
       "</table>\n",
       "</div>"
      ],
      "text/plain": [
       "                                  Metric     Score\n",
       "0                      Constant distance  0.521739\n",
       "1                               StructED  0.743478\n",
       "2                  StructED (normalized)  0.708696\n",
       "3              StructED (transpositions)  0.743478\n",
       "4  StructED (transpositions, normalized)  0.708696"
      ]
     },
     "execution_count": 12,
     "metadata": {},
     "output_type": "execute_result"
    }
   ],
   "source": [
    "results"
   ]
  },
  {
   "cell_type": "markdown",
   "metadata": {},
   "source": [
    "### Metrics with embeddings"
   ]
  },
  {
   "cell_type": "markdown",
   "metadata": {},
   "source": [
    "#### all-MiniLM-L12-v2"
   ]
  },
  {
   "cell_type": "code",
   "execution_count": 13,
   "metadata": {},
   "outputs": [],
   "source": [
    "model_name = 'all-MiniLM-L12-v2'\n",
    "model = SentenceTransformer(model_name, device=device)\n",
    "embedder = Embedder(model=model, tokenizer=None, device=device)"
   ]
  },
  {
   "cell_type": "code",
   "execution_count": 14,
   "metadata": {},
   "outputs": [
    {
     "name": "stderr",
     "output_type": "stream",
     "text": [
      "100%|███████████████████████████████████████████████████████████████████████████████| 502/502 [00:02<00:00, 187.15it/s]\n"
     ]
    }
   ],
   "source": [
    "for triplet in tqdm(triplets):\n",
    "    triplet.compute_embeddings(embeddings_dir, embedder, model_name)"
   ]
  },
  {
   "cell_type": "code",
   "execution_count": 15,
   "metadata": {},
   "outputs": [],
   "source": [
    "results = evaluate_metrics(\n",
    "    metrics_with_embeddings,\n",
    "    triplets,\n",
    "    CONFIDENCE_THRESHOLD,\n",
    ")"
   ]
  },
  {
   "cell_type": "code",
   "execution_count": 16,
   "metadata": {},
   "outputs": [
    {
     "data": {
      "text/html": [
       "<div>\n",
       "<style scoped>\n",
       "    .dataframe tbody tr th:only-of-type {\n",
       "        vertical-align: middle;\n",
       "    }\n",
       "\n",
       "    .dataframe tbody tr th {\n",
       "        vertical-align: top;\n",
       "    }\n",
       "\n",
       "    .dataframe thead th {\n",
       "        text-align: right;\n",
       "    }\n",
       "</style>\n",
       "<table border=\"1\" class=\"dataframe\">\n",
       "  <thead>\n",
       "    <tr style=\"text-align: right;\">\n",
       "      <th></th>\n",
       "      <th>Metric</th>\n",
       "      <th>Score</th>\n",
       "    </tr>\n",
       "  </thead>\n",
       "  <tbody>\n",
       "    <tr>\n",
       "      <th>0</th>\n",
       "      <td>ConvED</td>\n",
       "      <td>0.721739</td>\n",
       "    </tr>\n",
       "    <tr>\n",
       "      <th>1</th>\n",
       "      <td>ConvED (normalized)</td>\n",
       "      <td>0.726087</td>\n",
       "    </tr>\n",
       "    <tr>\n",
       "      <th>2</th>\n",
       "      <td>Cosine distance (average embedding)</td>\n",
       "      <td>0.526087</td>\n",
       "    </tr>\n",
       "    <tr>\n",
       "      <th>3</th>\n",
       "      <td>Lp distance p=1 (average embedding)</td>\n",
       "      <td>0.491304</td>\n",
       "    </tr>\n",
       "    <tr>\n",
       "      <th>4</th>\n",
       "      <td>Lp distance p=2 (average embedding)</td>\n",
       "      <td>0.500000</td>\n",
       "    </tr>\n",
       "    <tr>\n",
       "      <th>5</th>\n",
       "      <td>Dot product similarity (average embedding)</td>\n",
       "      <td>0.452174</td>\n",
       "    </tr>\n",
       "    <tr>\n",
       "      <th>6</th>\n",
       "      <td>Cosine distance (dialog embedding)</td>\n",
       "      <td>0.434783</td>\n",
       "    </tr>\n",
       "    <tr>\n",
       "      <th>7</th>\n",
       "      <td>Lp distance p=1 (dialog embedding)</td>\n",
       "      <td>0.426087</td>\n",
       "    </tr>\n",
       "    <tr>\n",
       "      <th>8</th>\n",
       "      <td>Lp distance p=2 (dialog embedding)</td>\n",
       "      <td>0.434783</td>\n",
       "    </tr>\n",
       "    <tr>\n",
       "      <th>9</th>\n",
       "      <td>Dot product similarity (dialog embedding)</td>\n",
       "      <td>0.434783</td>\n",
       "    </tr>\n",
       "  </tbody>\n",
       "</table>\n",
       "</div>"
      ],
      "text/plain": [
       "                                       Metric     Score\n",
       "0                                      ConvED  0.721739\n",
       "1                         ConvED (normalized)  0.726087\n",
       "2         Cosine distance (average embedding)  0.526087\n",
       "3         Lp distance p=1 (average embedding)  0.491304\n",
       "4         Lp distance p=2 (average embedding)  0.500000\n",
       "5  Dot product similarity (average embedding)  0.452174\n",
       "6          Cosine distance (dialog embedding)  0.434783\n",
       "7          Lp distance p=1 (dialog embedding)  0.426087\n",
       "8          Lp distance p=2 (dialog embedding)  0.434783\n",
       "9   Dot product similarity (dialog embedding)  0.434783"
      ]
     },
     "execution_count": 16,
     "metadata": {},
     "output_type": "execute_result"
    }
   ],
   "source": [
    "results"
   ]
  },
  {
   "cell_type": "markdown",
   "metadata": {},
   "source": [
    "#### DSE"
   ]
  },
  {
   "cell_type": "code",
   "execution_count": 17,
   "metadata": {},
   "outputs": [
    {
     "name": "stderr",
     "output_type": "stream",
     "text": [
      "Some weights of the model checkpoint at aws-ai/dse-bert-base were not used when initializing BertModel: ['contrast_head.0.weight', 'contrast_head.2.weight']\n",
      "- This IS expected if you are initializing BertModel from the checkpoint of a model trained on another task or with another architecture (e.g. initializing a BertForSequenceClassification model from a BertForPreTraining model).\n",
      "- This IS NOT expected if you are initializing BertModel from the checkpoint of a model that you expect to be exactly identical (initializing a BertForSequenceClassification model from a BertForSequenceClassification model).\n"
     ]
    }
   ],
   "source": [
    "model_name = 'dse-bert-base'\n",
    "model = AutoModel.from_pretrained('aws-ai/dse-bert-base')\n",
    "tokenizer = AutoTokenizer.from_pretrained('aws-ai/dse-bert-base')\n",
    "embedder = Embedder(model=model, tokenizer=tokenizer, device=device)"
   ]
  },
  {
   "cell_type": "code",
   "execution_count": 18,
   "metadata": {},
   "outputs": [
    {
     "name": "stderr",
     "output_type": "stream",
     "text": [
      "100%|███████████████████████████████████████████████████████████████████████████████| 502/502 [00:03<00:00, 164.21it/s]\n"
     ]
    }
   ],
   "source": [
    "for triplet in tqdm(triplets):\n",
    "    triplet.compute_embeddings(embeddings_dir, embedder, model_name)"
   ]
  },
  {
   "cell_type": "code",
   "execution_count": 19,
   "metadata": {},
   "outputs": [],
   "source": [
    "results = evaluate_metrics(\n",
    "    metrics_with_embeddings,\n",
    "    triplets,\n",
    "    CONFIDENCE_THRESHOLD,\n",
    ")"
   ]
  },
  {
   "cell_type": "code",
   "execution_count": 20,
   "metadata": {},
   "outputs": [
    {
     "data": {
      "text/html": [
       "<div>\n",
       "<style scoped>\n",
       "    .dataframe tbody tr th:only-of-type {\n",
       "        vertical-align: middle;\n",
       "    }\n",
       "\n",
       "    .dataframe tbody tr th {\n",
       "        vertical-align: top;\n",
       "    }\n",
       "\n",
       "    .dataframe thead th {\n",
       "        text-align: right;\n",
       "    }\n",
       "</style>\n",
       "<table border=\"1\" class=\"dataframe\">\n",
       "  <thead>\n",
       "    <tr style=\"text-align: right;\">\n",
       "      <th></th>\n",
       "      <th>Metric</th>\n",
       "      <th>Score</th>\n",
       "    </tr>\n",
       "  </thead>\n",
       "  <tbody>\n",
       "    <tr>\n",
       "      <th>0</th>\n",
       "      <td>ConvED</td>\n",
       "      <td>0.717391</td>\n",
       "    </tr>\n",
       "    <tr>\n",
       "      <th>1</th>\n",
       "      <td>ConvED (normalized)</td>\n",
       "      <td>0.713043</td>\n",
       "    </tr>\n",
       "    <tr>\n",
       "      <th>2</th>\n",
       "      <td>Cosine distance (average embedding)</td>\n",
       "      <td>0.613043</td>\n",
       "    </tr>\n",
       "    <tr>\n",
       "      <th>3</th>\n",
       "      <td>Lp distance p=1 (average embedding)</td>\n",
       "      <td>0.491304</td>\n",
       "    </tr>\n",
       "    <tr>\n",
       "      <th>4</th>\n",
       "      <td>Lp distance p=2 (average embedding)</td>\n",
       "      <td>0.486957</td>\n",
       "    </tr>\n",
       "    <tr>\n",
       "      <th>5</th>\n",
       "      <td>Dot product similarity (average embedding)</td>\n",
       "      <td>0.513043</td>\n",
       "    </tr>\n",
       "    <tr>\n",
       "      <th>6</th>\n",
       "      <td>Cosine distance (dialog embedding)</td>\n",
       "      <td>0.421739</td>\n",
       "    </tr>\n",
       "    <tr>\n",
       "      <th>7</th>\n",
       "      <td>Lp distance p=1 (dialog embedding)</td>\n",
       "      <td>0.413043</td>\n",
       "    </tr>\n",
       "    <tr>\n",
       "      <th>8</th>\n",
       "      <td>Lp distance p=2 (dialog embedding)</td>\n",
       "      <td>0.421739</td>\n",
       "    </tr>\n",
       "    <tr>\n",
       "      <th>9</th>\n",
       "      <td>Dot product similarity (dialog embedding)</td>\n",
       "      <td>0.378261</td>\n",
       "    </tr>\n",
       "  </tbody>\n",
       "</table>\n",
       "</div>"
      ],
      "text/plain": [
       "                                       Metric     Score\n",
       "0                                      ConvED  0.717391\n",
       "1                         ConvED (normalized)  0.713043\n",
       "2         Cosine distance (average embedding)  0.613043\n",
       "3         Lp distance p=1 (average embedding)  0.491304\n",
       "4         Lp distance p=2 (average embedding)  0.486957\n",
       "5  Dot product similarity (average embedding)  0.513043\n",
       "6          Cosine distance (dialog embedding)  0.421739\n",
       "7          Lp distance p=1 (dialog embedding)  0.413043\n",
       "8          Lp distance p=2 (dialog embedding)  0.421739\n",
       "9   Dot product similarity (dialog embedding)  0.378261"
      ]
     },
     "execution_count": 20,
     "metadata": {},
     "output_type": "execute_result"
    }
   ],
   "source": [
    "results"
   ]
  },
  {
   "cell_type": "code",
   "execution_count": 21,
   "metadata": {},
   "outputs": [
    {
     "name": "stderr",
     "output_type": "stream",
     "text": [
      "Some weights of the model checkpoint at aws-ai/dse-roberta-large were not used when initializing RobertaModel: ['contrast_head.0.weight', 'contrast_head.2.weight']\n",
      "- This IS expected if you are initializing RobertaModel from the checkpoint of a model trained on another task or with another architecture (e.g. initializing a BertForSequenceClassification model from a BertForPreTraining model).\n",
      "- This IS NOT expected if you are initializing RobertaModel from the checkpoint of a model that you expect to be exactly identical (initializing a BertForSequenceClassification model from a BertForSequenceClassification model).\n"
     ]
    }
   ],
   "source": [
    "model_name = 'dse-roberta-large'\n",
    "model = AutoModel.from_pretrained('aws-ai/dse-roberta-large')\n",
    "tokenizer = AutoTokenizer.from_pretrained('aws-ai/dse-roberta-large')\n",
    "embedder = Embedder(model=model, tokenizer=tokenizer, device=device)"
   ]
  },
  {
   "cell_type": "code",
   "execution_count": 22,
   "metadata": {},
   "outputs": [
    {
     "name": "stderr",
     "output_type": "stream",
     "text": [
      "100%|███████████████████████████████████████████████████████████████████████████████| 502/502 [00:03<00:00, 163.29it/s]\n"
     ]
    }
   ],
   "source": [
    "for triplet in tqdm(triplets):\n",
    "    triplet.compute_embeddings(embeddings_dir, embedder, model_name)"
   ]
  },
  {
   "cell_type": "code",
   "execution_count": 23,
   "metadata": {},
   "outputs": [],
   "source": [
    "results = evaluate_metrics(\n",
    "    metrics_with_embeddings,\n",
    "    triplets,\n",
    "    CONFIDENCE_THRESHOLD,\n",
    ")"
   ]
  },
  {
   "cell_type": "code",
   "execution_count": 24,
   "metadata": {},
   "outputs": [
    {
     "data": {
      "text/html": [
       "<div>\n",
       "<style scoped>\n",
       "    .dataframe tbody tr th:only-of-type {\n",
       "        vertical-align: middle;\n",
       "    }\n",
       "\n",
       "    .dataframe tbody tr th {\n",
       "        vertical-align: top;\n",
       "    }\n",
       "\n",
       "    .dataframe thead th {\n",
       "        text-align: right;\n",
       "    }\n",
       "</style>\n",
       "<table border=\"1\" class=\"dataframe\">\n",
       "  <thead>\n",
       "    <tr style=\"text-align: right;\">\n",
       "      <th></th>\n",
       "      <th>Metric</th>\n",
       "      <th>Score</th>\n",
       "    </tr>\n",
       "  </thead>\n",
       "  <tbody>\n",
       "    <tr>\n",
       "      <th>0</th>\n",
       "      <td>ConvED</td>\n",
       "      <td>0.704348</td>\n",
       "    </tr>\n",
       "    <tr>\n",
       "      <th>1</th>\n",
       "      <td>ConvED (normalized)</td>\n",
       "      <td>0.678261</td>\n",
       "    </tr>\n",
       "    <tr>\n",
       "      <th>2</th>\n",
       "      <td>Cosine distance (average embedding)</td>\n",
       "      <td>0.660870</td>\n",
       "    </tr>\n",
       "    <tr>\n",
       "      <th>3</th>\n",
       "      <td>Lp distance p=1 (average embedding)</td>\n",
       "      <td>0.491304</td>\n",
       "    </tr>\n",
       "    <tr>\n",
       "      <th>4</th>\n",
       "      <td>Lp distance p=2 (average embedding)</td>\n",
       "      <td>0.513043</td>\n",
       "    </tr>\n",
       "    <tr>\n",
       "      <th>5</th>\n",
       "      <td>Dot product similarity (average embedding)</td>\n",
       "      <td>0.504348</td>\n",
       "    </tr>\n",
       "    <tr>\n",
       "      <th>6</th>\n",
       "      <td>Cosine distance (dialog embedding)</td>\n",
       "      <td>0.469565</td>\n",
       "    </tr>\n",
       "    <tr>\n",
       "      <th>7</th>\n",
       "      <td>Lp distance p=1 (dialog embedding)</td>\n",
       "      <td>0.504348</td>\n",
       "    </tr>\n",
       "    <tr>\n",
       "      <th>8</th>\n",
       "      <td>Lp distance p=2 (dialog embedding)</td>\n",
       "      <td>0.513043</td>\n",
       "    </tr>\n",
       "    <tr>\n",
       "      <th>9</th>\n",
       "      <td>Dot product similarity (dialog embedding)</td>\n",
       "      <td>0.413043</td>\n",
       "    </tr>\n",
       "  </tbody>\n",
       "</table>\n",
       "</div>"
      ],
      "text/plain": [
       "                                       Metric     Score\n",
       "0                                      ConvED  0.704348\n",
       "1                         ConvED (normalized)  0.678261\n",
       "2         Cosine distance (average embedding)  0.660870\n",
       "3         Lp distance p=1 (average embedding)  0.491304\n",
       "4         Lp distance p=2 (average embedding)  0.513043\n",
       "5  Dot product similarity (average embedding)  0.504348\n",
       "6          Cosine distance (dialog embedding)  0.469565\n",
       "7          Lp distance p=1 (dialog embedding)  0.504348\n",
       "8          Lp distance p=2 (dialog embedding)  0.513043\n",
       "9   Dot product similarity (dialog embedding)  0.413043"
      ]
     },
     "execution_count": 24,
     "metadata": {},
     "output_type": "execute_result"
    }
   ],
   "source": [
    "results"
   ]
  }
 ],
 "metadata": {
  "kernelspec": {
   "display_name": "Python 3 (ipykernel)",
   "language": "python",
   "name": "python3"
  },
  "language_info": {
   "codemirror_mode": {
    "name": "ipython",
    "version": 3
   },
   "file_extension": ".py",
   "mimetype": "text/x-python",
   "name": "python",
   "nbconvert_exporter": "python",
   "pygments_lexer": "ipython3",
   "version": "3.10.10"
  }
 },
 "nbformat": 4,
 "nbformat_minor": 1
}
