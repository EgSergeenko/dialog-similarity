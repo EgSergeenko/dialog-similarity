{
 "cells": [
  {
   "cell_type": "code",
   "execution_count": 1,
   "metadata": {
    "collapsed": true
   },
   "outputs": [],
   "source": [
    "import os\n",
    "\n",
    "import numpy as np\n",
    "import pandas as pd\n",
    "import torch\n",
    "from sentence_transformers import SentenceTransformer\n",
    "from tqdm import tqdm\n",
    "\n",
    "from dialog import Dialog, DialogTriplet, dialog_from_file\n",
    "from metrics import ExampleMetric, get_metric_agreement"
   ]
  },
  {
   "cell_type": "code",
   "execution_count": 2,
   "outputs": [],
   "source": [
    "def get_dialog_filepath(root_dir: str, dialog_id: str):\n",
    "    return os.path.join(root_dir, '{0}.json'.format(dialog_id))"
   ],
   "metadata": {
    "collapsed": false
   }
  },
  {
   "cell_type": "code",
   "execution_count": 3,
   "outputs": [],
   "source": [
    "def load_dialog_triplets(\n",
    "    metadata: pd.DataFrame, root_dir: str,\n",
    ") -> list[DialogTriplet]:\n",
    "    dialog_triplets = []\n",
    "    for triplet in metadata.to_dict('records'):\n",
    "        label = triplet['more_similar_conv'] - 1\n",
    "        confidence_score = triplet['more_similar_conv_confidence']\n",
    "\n",
    "        anchor_filepath = get_dialog_filepath(root_dir, triplet['anchor_conv'])\n",
    "        dialog_1_filepath = get_dialog_filepath(root_dir, triplet['conv_1'])\n",
    "        dialog_2_filepath = get_dialog_filepath(root_dir, triplet['conv_2'])\n",
    "\n",
    "        dialog_triplets.append(\n",
    "            DialogTriplet(\n",
    "                anchor_dialog=dialog_from_file(anchor_filepath),\n",
    "                dialog_1=dialog_from_file(dialog_1_filepath),\n",
    "                dialog_2=dialog_from_file(dialog_2_filepath),\n",
    "                label=label,\n",
    "                confidence_score=confidence_score,\n",
    "            ),\n",
    "        )\n",
    "    return dialog_triplets"
   ],
   "metadata": {
    "collapsed": false
   }
  },
  {
   "cell_type": "code",
   "execution_count": 4,
   "outputs": [],
   "source": [
    "def compute_embeddings(\n",
    "    dialog: Dialog,\n",
    "    cache_dir: str,\n",
    "    model: SentenceTransformer,\n",
    "    model_name: str,\n",
    ") -> Dialog:\n",
    "    for idx, turn in enumerate(dialog.turns):\n",
    "        embedding_filepath = os.path.join(\n",
    "            cache_dir,\n",
    "            '{0}_{1}_{2}.npy'.format(\n",
    "                model_name, dialog.dialog_id, idx,\n",
    "            ),\n",
    "        )\n",
    "        if os.path.isfile(embedding_filepath):\n",
    "            embedding = np.load(embedding_filepath)\n",
    "        else:\n",
    "            embedding = model.encode([turn.utterance])[0]\n",
    "            np.save(embedding_filepath, embedding)\n",
    "        dialog.turns[idx].embedding = embedding\n",
    "    return dialog"
   ],
   "metadata": {
    "collapsed": false
   }
  },
  {
   "cell_type": "code",
   "execution_count": 5,
   "outputs": [],
   "source": [
    "metadata_filepath = 'conversation-similarity/conved.csv'\n",
    "dialogs_dir = 'conversation-similarity/dialogs'\n",
    "embeddings_dir = 'conversation-similarity/cache'\n",
    "\n",
    "os.makedirs(embeddings_dir, exist_ok=True)"
   ],
   "metadata": {
    "collapsed": false
   }
  },
  {
   "cell_type": "code",
   "execution_count": 6,
   "outputs": [],
   "source": [
    "triplets = load_dialog_triplets(\n",
    "    pd.read_csv(metadata_filepath),\n",
    "    dialogs_dir,\n",
    ")"
   ],
   "metadata": {
    "collapsed": false
   }
  },
  {
   "cell_type": "code",
   "execution_count": 7,
   "outputs": [],
   "source": [
    "device = 'cpu'\n",
    "if torch.cuda.is_available():\n",
    "    device = 'cuda'\n",
    "\n",
    "model_name = 'all-MiniLM-L12-v2'\n",
    "model = SentenceTransformer(model_name, device=device)"
   ],
   "metadata": {
    "collapsed": false
   }
  },
  {
   "cell_type": "code",
   "execution_count": 8,
   "outputs": [
    {
     "name": "stderr",
     "output_type": "stream",
     "text": [
      "100%|██████████| 502/502 [00:49<00:00, 10.20it/s]\n"
     ]
    }
   ],
   "source": [
    "for triplet in tqdm(triplets):\n",
    "    triplet.anchor_dialog = compute_embeddings(\n",
    "        triplet.anchor_dialog, embeddings_dir, model, model_name,\n",
    "    )\n",
    "    triplet.dialog_1 = compute_embeddings(\n",
    "        triplet.dialog_1, embeddings_dir, model, model_name,\n",
    "    )\n",
    "    triplet.dialog_2 = compute_embeddings(\n",
    "        triplet.dialog_2, embeddings_dir, model, model_name,\n",
    "    )"
   ],
   "metadata": {
    "collapsed": false
   }
  },
  {
   "cell_type": "code",
   "execution_count": 9,
   "outputs": [
    {
     "data": {
      "text/plain": "0.5125"
     },
     "execution_count": 9,
     "metadata": {},
     "output_type": "execute_result"
    }
   ],
   "source": [
    "get_metric_agreement(triplets, ExampleMetric(), 0.8)"
   ],
   "metadata": {
    "collapsed": false
   }
  }
 ],
 "metadata": {
  "kernelspec": {
   "display_name": "Python 3",
   "language": "python",
   "name": "python3"
  },
  "language_info": {
   "codemirror_mode": {
    "name": "ipython",
    "version": 2
   },
   "file_extension": ".py",
   "mimetype": "text/x-python",
   "name": "python",
   "nbconvert_exporter": "python",
   "pygments_lexer": "ipython2",
   "version": "2.7.6"
  }
 },
 "nbformat": 4,
 "nbformat_minor": 0
}
