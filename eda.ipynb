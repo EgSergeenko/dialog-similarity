{
 "cells": [
  {
   "cell_type": "code",
   "execution_count": 1,
   "metadata": {
    "collapsed": true
   },
   "outputs": [],
   "source": [
    "import os\n",
    "\n",
    "import numpy as np\n",
    "import torch\n",
    "from datasets import load_dataset\n",
    "from sentence_transformers import SentenceTransformer\n",
    "from tqdm import tqdm\n",
    "\n",
    "from dialog import dialog_from_dict\n",
    "from metrics import ConversationalEditDistance"
   ]
  },
  {
   "cell_type": "code",
   "execution_count": null,
   "outputs": [],
   "source": [
    "dataset = load_dataset('multi_woz_v22', split='test')"
   ],
   "metadata": {
    "collapsed": false,
    "pycharm": {
     "is_executing": true
    }
   }
  },
  {
   "cell_type": "code",
   "execution_count": 3,
   "outputs": [],
   "source": [
    "embeddings_dir = 'conversation-similarity/cache'\n",
    "\n",
    "os.makedirs(embeddings_dir, exist_ok=True)"
   ],
   "metadata": {
    "collapsed": false
   }
  },
  {
   "cell_type": "code",
   "execution_count": 4,
   "outputs": [],
   "source": [
    "device = 'cpu'\n",
    "if torch.cuda.is_available():\n",
    "    device = 'cuda'\n",
    "\n",
    "model_name = 'all-MiniLM-L12-v2'\n",
    "model = SentenceTransformer(model_name, device=device)"
   ],
   "metadata": {
    "collapsed": false
   }
  },
  {
   "cell_type": "code",
   "execution_count": 5,
   "outputs": [],
   "source": [
    "np.random.seed(1234)"
   ],
   "metadata": {
    "collapsed": false
   }
  },
  {
   "cell_type": "code",
   "execution_count": 6,
   "outputs": [],
   "source": [
    "pairs = np.random.choice(dataset, size=(1000, 2))"
   ],
   "metadata": {
    "collapsed": false
   }
  },
  {
   "cell_type": "code",
   "execution_count": 7,
   "outputs": [
    {
     "name": "stderr",
     "output_type": "stream",
     "text": [
      "100%|██████████| 1000/1000 [00:04<00:00, 234.43it/s]\n"
     ]
    }
   ],
   "source": [
    "for pair in pairs:\n",
    "    pair[0] = dialog_from_dict(pair[0])\n",
    "    pair[1] = dialog_from_dict(pair[1])\n",
    "\n",
    "for pair in tqdm(pairs):\n",
    "    pair[0].compute_embeddings(embeddings_dir, model, model_name)\n",
    "    pair[1].compute_embeddings(embeddings_dir, model, model_name)"
   ],
   "metadata": {
    "collapsed": false
   }
  },
  {
   "cell_type": "code",
   "execution_count": 8,
   "outputs": [],
   "source": [
    "metric = ConversationalEditDistance(is_inverted=False)\n",
    "distances = []\n",
    "for pair in pairs:\n",
    "    distances.append(metric(pair[0], pair[1]))"
   ],
   "metadata": {
    "collapsed": false
   }
  },
  {
   "cell_type": "code",
   "execution_count": 9,
   "outputs": [],
   "source": [
    "output_dir = 'assets'\n",
    "os.makedirs(output_dir, exist_ok=True)\n",
    "for pair_idx in np.argsort(distances)[:10]:\n",
    "    pair = pairs[pair_idx]\n",
    "    output_filepath = os.path.join(\n",
    "        output_dir, '{0}.html'.format(pair_idx),\n",
    "    )\n",
    "    metric.visualize(pair[0], pair[1], output_filepath)"
   ],
   "metadata": {
    "collapsed": false
   }
  }
 ],
 "metadata": {
  "kernelspec": {
   "display_name": "Python 3",
   "language": "python",
   "name": "python3"
  },
  "language_info": {
   "codemirror_mode": {
    "name": "ipython",
    "version": 2
   },
   "file_extension": ".py",
   "mimetype": "text/x-python",
   "name": "python",
   "nbconvert_exporter": "python",
   "pygments_lexer": "ipython2",
   "version": "2.7.6"
  }
 },
 "nbformat": 4,
 "nbformat_minor": 0
}
