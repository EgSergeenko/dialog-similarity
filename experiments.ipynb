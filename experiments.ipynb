{
 "cells": [
  {
   "cell_type": "code",
   "execution_count": 1,
   "metadata": {
    "collapsed": true
   },
   "outputs": [],
   "source": [
    "import os\n",
    "\n",
    "import pandas as pd\n",
    "\n",
    "from dialog import DialogTriplet, dialog_from_file\n",
    "from metrics import ExampleMetric, get_metric_agreement"
   ]
  },
  {
   "cell_type": "code",
   "execution_count": 2,
   "outputs": [],
   "source": [
    "metadata_filepath = 'conversation-similarity/conved.csv'\n",
    "dialogs_dir = 'conversation-similarity/dialogs'"
   ],
   "metadata": {
    "collapsed": false
   }
  },
  {
   "cell_type": "code",
   "execution_count": 3,
   "outputs": [],
   "source": [
    "metadata = pd.read_csv(metadata_filepath)"
   ],
   "metadata": {
    "collapsed": false
   }
  },
  {
   "cell_type": "code",
   "execution_count": 4,
   "outputs": [],
   "source": [
    "def get_dialog_filepath(root_dir, dialog_id):\n",
    "    return os.path.join(root_dir, '{0}.json'.format(dialog_id))"
   ],
   "metadata": {
    "collapsed": false
   }
  },
  {
   "cell_type": "code",
   "execution_count": 5,
   "outputs": [],
   "source": [
    "dialog_triplets = []\n",
    "for triplet in metadata.to_dict('records'):\n",
    "    label = triplet['more_similar_conv'] - 1\n",
    "    confidence_score = triplet['more_similar_conv_confidence']\n",
    "\n",
    "    anchor_filepath = get_dialog_filepath(dialogs_dir, triplet['anchor_conv'])\n",
    "    dialog_1_filepath = get_dialog_filepath(dialogs_dir, triplet['conv_1'])\n",
    "    dialog_2_filepath = get_dialog_filepath(dialogs_dir, triplet['conv_2'])\n",
    "\n",
    "    dialog_triplets.append(\n",
    "        DialogTriplet(\n",
    "            anchor_dialog=dialog_from_file(anchor_filepath),\n",
    "            dialog_1=dialog_from_file(dialog_1_filepath),\n",
    "            dialog_2=dialog_from_file(dialog_1_filepath),\n",
    "            label=label,\n",
    "            confidence_score=confidence_score,\n",
    "        ),\n",
    "    )"
   ],
   "metadata": {
    "collapsed": false
   }
  },
  {
   "cell_type": "code",
   "execution_count": 6,
   "outputs": [
    {
     "data": {
      "text/plain": "0.5125"
     },
     "execution_count": 6,
     "metadata": {},
     "output_type": "execute_result"
    }
   ],
   "source": [
    "get_metric_agreement(dialog_triplets, ExampleMetric(), 0.8)"
   ],
   "metadata": {
    "collapsed": false
   }
  },
  {
   "cell_type": "code",
   "execution_count": null,
   "outputs": [],
   "source": [],
   "metadata": {
    "collapsed": false
   }
  }
 ],
 "metadata": {
  "kernelspec": {
   "display_name": "Python 3",
   "language": "python",
   "name": "python3"
  },
  "language_info": {
   "codemirror_mode": {
    "name": "ipython",
    "version": 2
   },
   "file_extension": ".py",
   "mimetype": "text/x-python",
   "name": "python",
   "nbconvert_exporter": "python",
   "pygments_lexer": "ipython2",
   "version": "2.7.6"
  }
 },
 "nbformat": 4,
 "nbformat_minor": 0
}
